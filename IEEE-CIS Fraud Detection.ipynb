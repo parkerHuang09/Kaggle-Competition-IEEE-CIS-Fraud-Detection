{
 "cells": [
  {
   "cell_type": "markdown",
   "metadata": {},
   "source": [
    "# 題目：Develop a prediction model for 2019 IEEE fraud detection challenge\n",
    "## 姓名： 黃暐程"
   ]
  },
  {
   "cell_type": "markdown",
   "metadata": {},
   "source": [
    "## 目錄：\n",
    "1. Observed AUC Baseline by Logistic Regression\n",
    "2. Feature Engineering\n",
    "3. Improved Logistic Regression \n",
    "4. Tree-based model (XGboost)\n",
    "5. Predicted testing dataset by XGboost model\n",
    "6. Defined users and found fraud users"
   ]
  },
  {
   "cell_type": "code",
   "execution_count": 1,
   "metadata": {},
   "outputs": [
    {
     "name": "stderr",
     "output_type": "stream",
     "text": [
      "/Users/wei-chenghuang/anaconda3/lib/python3.7/site-packages/statsmodels/tools/_testing.py:19: FutureWarning: pandas.util.testing is deprecated. Use the functions in the public API at pandas.testing instead.\n",
      "  import pandas.util.testing as tm\n",
      "/Users/wei-chenghuang/anaconda3/lib/python3.7/site-packages/statsmodels/compat/pandas.py:23: FutureWarning: The Panel class is removed from pandas. Accessing it from the top-level namespace will also be removed in the next version\n",
      "  data_klasses = (pandas.Series, pandas.DataFrame, pandas.Panel)\n"
     ]
    }
   ],
   "source": [
    "import pandas as pd\n",
    "import numpy as np\n",
    "import matplotlib.pyplot as plt\n",
    "from sklearn.datasets import load_iris\n",
    "from sklearn.linear_model import LogisticRegression\n",
    "from sklearn.linear_model import LinearRegression\n",
    "from sklearn import svm, datasets\n",
    "from sklearn.model_selection import cross_val_score\n",
    "from sklearn.metrics import precision_score\n",
    "from sklearn.metrics import accuracy_score\n",
    "from sklearn.metrics import recall_score\n",
    "import statsmodels.api as sm\n",
    "from sklearn import metrics\n",
    "from sklearn.metrics import mean_squared_error\n",
    "from sklearn import datasets\n",
    "from sklearn.metrics import r2_score\n",
    "from sklearn.metrics import roc_curve, auc\n",
    "from xgboost.sklearn import XGBClassifier\n",
    "from xgboost import cv\n",
    "import xgboost as xgb\n",
    "from sklearn import preprocessing\n",
    "import random\n",
    "from sklearn.model_selection import train_test_split\n",
    "from sklearn.metrics import confusion_matrix\n",
    "from sklearn.metrics import precision_score"
   ]
  },
  {
   "cell_type": "markdown",
   "metadata": {},
   "source": [
    "# Loaded dataset and Merged it"
   ]
  },
  {
   "cell_type": "code",
   "execution_count": 2,
   "metadata": {},
   "outputs": [],
   "source": [
    "train_identity = pd.read_csv(\"train_identity.csv\")\n",
    "train_transaction = pd.read_csv(\"train_transaction.csv\")\n",
    "test_transaction = pd.read_csv(\"test_transaction.csv\")\n",
    "test_identity = pd.read_csv(\"test_identity.csv\")"
   ]
  },
  {
   "cell_type": "code",
   "execution_count": 3,
   "metadata": {},
   "outputs": [
    {
     "name": "stdout",
     "output_type": "stream",
     "text": [
      "Dimensions of the Train Identity set: (144233, 41)\n",
      "Dimensions of the Train transaction set: (590540, 394)\n",
      "Dimensions of the Test transaction set: (506691, 393)\n",
      "Dimensions of the Test Identity set: (141907, 41)\n"
     ]
    }
   ],
   "source": [
    "print('Dimensions of the Train Identity set:',train_identity.shape)\n",
    "print('Dimensions of the Train transaction set:',train_transaction.shape)\n",
    "print('Dimensions of the Test transaction set:',test_transaction.shape)\n",
    "print('Dimensions of the Test Identity set:',test_identity.shape)"
   ]
  },
  {
   "cell_type": "code",
   "execution_count": 3,
   "metadata": {},
   "outputs": [
    {
     "name": "stdout",
     "output_type": "stream",
     "text": [
      "144233\n",
      "141907\n"
     ]
    }
   ],
   "source": [
    "print(np.sum(train_transaction['TransactionID'].isin(train_identity['TransactionID'].unique())))\n",
    "print(np.sum(test_transaction['TransactionID'].isin(test_identity['TransactionID'].unique())))"
   ]
  },
  {
   "cell_type": "code",
   "execution_count": 3,
   "metadata": {},
   "outputs": [],
   "source": [
    "train_df=pd.merge(train_transaction,train_identity,how=\"left\",on=\"TransactionID\")\n",
    "test_df=pd.merge(test_transaction,test_identity,how=\"left\",on=\"TransactionID\")"
   ]
  },
  {
   "cell_type": "code",
   "execution_count": 10,
   "metadata": {},
   "outputs": [
    {
     "name": "stdout",
     "output_type": "stream",
     "text": [
      "Count Plot for Fraudulent vs legitimate transaction\n"
     ]
    },
    {
     "data": {
      "text/plain": [
       "0    96.500999\n",
       "1     3.499001\n",
       "Name: isFraud, dtype: float64"
      ]
     },
     "execution_count": 10,
     "metadata": {},
     "output_type": "execute_result"
    },
    {
     "data": {
      "image/png": "[encoded data removed]",
      "text/plain": [
       "<Figure size 432x288 with 1 Axes>"
      ]
     },
     "metadata": {
      "needs_background": "light"
     },
     "output_type": "display_data"
    }
   ],
   "source": [
    "sns.countplot(train_df['isFraud'])\n",
    "print(\"Count Plot for Fraudulent vs normal transaction\") ## Imbalanced Dataset\n",
    "train_df['isFraud'].value_counts(normalize=True) * 100"
   ]
  },
  {
   "cell_type": "markdown",
   "metadata": {},
   "source": [
    "### 對dataset 做基本dimension 了解, 發現 DV 的分佈非常bias."
   ]
  },
  {
   "cell_type": "markdown",
   "metadata": {},
   "source": [
    "# 1. Observed AUC Baseline by Logistic Regression\n",
    "###  ---- 對data 做基本的處理並試跑Logistic Regression, 觀察baseline 的AUC."
   ]
  },
  {
   "cell_type": "code",
   "execution_count": 5,
   "metadata": {},
   "outputs": [],
   "source": [
    "train_df_simple_baseline = train_df.copy()\n",
    "test_df_simple_baseline= test_df.copy()"
   ]
  },
  {
   "cell_type": "code",
   "execution_count": 67,
   "metadata": {},
   "outputs": [],
   "source": [
    "train_df_simple_baseline = train_df_simple_baseline.set_index(\"TransactionID\")"
   ]
  },
  {
   "cell_type": "code",
   "execution_count": 70,
   "metadata": {},
   "outputs": [],
   "source": [
    "#fill null value by mode\n",
    "for i in train_df_simple_baseline.columns:\n",
    "    train_df_simple_baseline[i].fillna(value=train_df_simple_baseline[i].mode()[0], inplace=True)"
   ]
  },
  {
   "cell_type": "code",
   "execution_count": 73,
   "metadata": {},
   "outputs": [],
   "source": [
    "train_simple_y_baseline = train_df_simple_baseline['isFraud']\n",
    "train_simple_x_baseline = train_df_simple_baseline.drop('isFraud', axis=1)"
   ]
  },
  {
   "cell_type": "code",
   "execution_count": 74,
   "metadata": {},
   "outputs": [],
   "source": [
    "object_list = []\n",
    "for f in train_simple_x_baseline.columns:\n",
    "    if train_simple_x_baseline[f].dtype=='object': \n",
    "        object_list.append(f)\n",
    "train_simple_x_baseline = pd.get_dummies(train_simple_x_baseline, columns= object_list, prefix=object_list)"
   ]
  },
  {
   "cell_type": "code",
   "execution_count": 75,
   "metadata": {},
   "outputs": [
    {
     "data": {
      "text/plain": [
       "(590540, 2833)"
      ]
     },
     "execution_count": 75,
     "metadata": {},
     "output_type": "execute_result"
    }
   ],
   "source": [
    "train_simple_x_baseline.shape"
   ]
  },
  {
   "cell_type": "code",
   "execution_count": 76,
   "metadata": {},
   "outputs": [],
   "source": [
    "SEED = 123\n",
    "random.seed(SEED)\n",
    "X_train_baseline, X_test_baseline, y_train_baseline, y_test_baseline = train_test_split(train_simple_x_baseline, train_simple_y_baseline, test_size=0.3, random_state=42)\n"
   ]
  },
  {
   "cell_type": "code",
   "execution_count": 77,
   "metadata": {},
   "outputs": [
    {
     "data": {
      "text/plain": [
       "LogisticRegression(C=1.0, class_weight=None, dual=False, fit_intercept=True,\n",
       "                   intercept_scaling=1, l1_ratio=None, max_iter=100,\n",
       "                   multi_class='warn', n_jobs=None, penalty='l2',\n",
       "                   random_state=None, solver='liblinear', tol=0.0001, verbose=0,\n",
       "                   warm_start=False)"
      ]
     },
     "execution_count": 77,
     "metadata": {},
     "output_type": "execute_result"
    }
   ],
   "source": [
    "logistic_regression = LogisticRegression(solver=\"liblinear\")\n",
    "logistic_regression.fit(X_train_baseline,y_train_baseline)"
   ]
  },
  {
   "cell_type": "code",
   "execution_count": 84,
   "metadata": {},
   "outputs": [
    {
     "data": {
      "image/png": "[encoded data removed]",
      "text/plain": [
       "<Figure size 432x288 with 1 Axes>"
      ]
     },
     "metadata": {
      "needs_background": "light"
     },
     "output_type": "display_data"
    }
   ],
   "source": [
    "#ROC for baseline testing data\n",
    "probs = logistic_regression.predict_proba(X_test_baseline)\n",
    "preds = probs[:,1]\n",
    "lw = 2\n",
    "fpr, tpr, threshold = roc_curve(y_test_baseline, preds)\n",
    "roc_auc = auc(fpr, tpr)\n",
    "plt.figure()\n",
    "plt.plot(fpr, tpr, color='darkorange',\n",
    "    lw=lw, label='ROC curve (area = %0.2f)' % roc_auc) ###假正率為橫座標，真正率為縱座標做曲線\n",
    "plt.plot([0, 1], [0, 1], color='navy', lw=lw, linestyle='--')\n",
    "plt.xlim([0.0, 1.0])\n",
    "plt.ylim([0.0, 1.05])\n",
    "plt.xlabel('False Positive Rate')\n",
    "plt.ylabel('True Positive Rate')\n",
    "plt.title('ROC curve')\n",
    "plt.legend(loc=\"lower right\")\n",
    "plt.show()"
   ]
  },
  {
   "cell_type": "markdown",
   "metadata": {},
   "source": [
    "### 小結: 做基本feature處理的 Logistic Regression 跑出AUC 0.71 當作baseline 來優化後續的model"
   ]
  },
  {
   "cell_type": "markdown",
   "metadata": {},
   "source": [
    "# 2. Feature Engineering\n",
    "* 去除超過60% missing value 的columns\n",
    "* 根據distribution fill missing value\n",
    "* 轉換 dummies variable"
   ]
  },
  {
   "cell_type": "code",
   "execution_count": 8,
   "metadata": {},
   "outputs": [],
   "source": [
    "train_df_simple = train_df.copy()\n",
    "test_df_simple = test_df.copy()"
   ]
  },
  {
   "cell_type": "code",
   "execution_count": 10,
   "metadata": {},
   "outputs": [
    {
     "data": {
      "text/plain": [
       "(590540, 434)"
      ]
     },
     "execution_count": 10,
     "metadata": {},
     "output_type": "execute_result"
    }
   ],
   "source": [
    "train_df.shape"
   ]
  },
  {
   "cell_type": "code",
   "execution_count": 6,
   "metadata": {},
   "outputs": [
    {
     "data": {
      "text/html": [
       "<div>\n",
       "<style scoped>\n",
       "    .dataframe tbody tr th:only-of-type {\n",
       "        vertical-align: middle;\n",
       "    }\n",
       "\n",
       "    .dataframe tbody tr th {\n",
       "        vertical-align: top;\n",
       "    }\n",
       "\n",
       "    .dataframe thead th {\n",
       "        text-align: right;\n",
       "    }\n",
       "</style>\n",
       "<table border=\"1\" class=\"dataframe\">\n",
       "  <thead>\n",
       "    <tr style=\"text-align: right;\">\n",
       "      <th></th>\n",
       "      <th>TransactionID</th>\n",
       "      <th>isFraud</th>\n",
       "      <th>TransactionDT</th>\n",
       "      <th>TransactionAmt</th>\n",
       "      <th>ProductCD</th>\n",
       "      <th>card1</th>\n",
       "      <th>card2</th>\n",
       "      <th>card3</th>\n",
       "      <th>card4</th>\n",
       "      <th>card5</th>\n",
       "      <th>...</th>\n",
       "      <th>id_31</th>\n",
       "      <th>id_32</th>\n",
       "      <th>id_33</th>\n",
       "      <th>id_34</th>\n",
       "      <th>id_35</th>\n",
       "      <th>id_36</th>\n",
       "      <th>id_37</th>\n",
       "      <th>id_38</th>\n",
       "      <th>DeviceType</th>\n",
       "      <th>DeviceInfo</th>\n",
       "    </tr>\n",
       "  </thead>\n",
       "  <tbody>\n",
       "    <tr>\n",
       "      <th>Count</th>\n",
       "      <td>0</td>\n",
       "      <td>0</td>\n",
       "      <td>0</td>\n",
       "      <td>0</td>\n",
       "      <td>0</td>\n",
       "      <td>0</td>\n",
       "      <td>8933</td>\n",
       "      <td>1565</td>\n",
       "      <td>1577</td>\n",
       "      <td>4259</td>\n",
       "      <td>...</td>\n",
       "      <td>450258</td>\n",
       "      <td>512954</td>\n",
       "      <td>517251</td>\n",
       "      <td>512735</td>\n",
       "      <td>449555</td>\n",
       "      <td>449555</td>\n",
       "      <td>449555</td>\n",
       "      <td>449555</td>\n",
       "      <td>449730</td>\n",
       "      <td>471874</td>\n",
       "    </tr>\n",
       "    <tr>\n",
       "      <th>NUll Percent</th>\n",
       "      <td>0</td>\n",
       "      <td>0</td>\n",
       "      <td>0</td>\n",
       "      <td>0</td>\n",
       "      <td>0</td>\n",
       "      <td>0</td>\n",
       "      <td>1.51268</td>\n",
       "      <td>0.265012</td>\n",
       "      <td>0.267044</td>\n",
       "      <td>0.721204</td>\n",
       "      <td>...</td>\n",
       "      <td>76.2451</td>\n",
       "      <td>86.8619</td>\n",
       "      <td>87.5895</td>\n",
       "      <td>86.8248</td>\n",
       "      <td>76.1261</td>\n",
       "      <td>76.1261</td>\n",
       "      <td>76.1261</td>\n",
       "      <td>76.1261</td>\n",
       "      <td>76.1557</td>\n",
       "      <td>79.9055</td>\n",
       "    </tr>\n",
       "    <tr>\n",
       "      <th>dtypes</th>\n",
       "      <td>int64</td>\n",
       "      <td>int64</td>\n",
       "      <td>int64</td>\n",
       "      <td>float64</td>\n",
       "      <td>object</td>\n",
       "      <td>int64</td>\n",
       "      <td>float64</td>\n",
       "      <td>float64</td>\n",
       "      <td>object</td>\n",
       "      <td>float64</td>\n",
       "      <td>...</td>\n",
       "      <td>object</td>\n",
       "      <td>float64</td>\n",
       "      <td>object</td>\n",
       "      <td>object</td>\n",
       "      <td>object</td>\n",
       "      <td>object</td>\n",
       "      <td>object</td>\n",
       "      <td>object</td>\n",
       "      <td>object</td>\n",
       "      <td>object</td>\n",
       "    </tr>\n",
       "  </tbody>\n",
       "</table>\n",
       "<p>3 rows × 434 columns</p>\n",
       "</div>"
      ],
      "text/plain": [
       "             TransactionID isFraud TransactionDT TransactionAmt ProductCD  \\\n",
       "Count                    0       0             0              0         0   \n",
       "NUll Percent             0       0             0              0         0   \n",
       "dtypes               int64   int64         int64        float64    object   \n",
       "\n",
       "              card1    card2     card3     card4     card5  ...    id_31  \\\n",
       "Count             0     8933      1565      1577      4259  ...   450258   \n",
       "NUll Percent      0  1.51268  0.265012  0.267044  0.721204  ...  76.2451   \n",
       "dtypes        int64  float64   float64    object   float64  ...   object   \n",
       "\n",
       "                id_32    id_33    id_34    id_35    id_36    id_37    id_38  \\\n",
       "Count          512954   517251   512735   449555   449555   449555   449555   \n",
       "NUll Percent  86.8619  87.5895  86.8248  76.1261  76.1261  76.1261  76.1261   \n",
       "dtypes        float64   object   object   object   object   object   object   \n",
       "\n",
       "             DeviceType DeviceInfo  \n",
       "Count            449730     471874  \n",
       "NUll Percent    76.1557    79.9055  \n",
       "dtypes           object     object  \n",
       "\n",
       "[3 rows x 434 columns]"
      ]
     },
     "execution_count": 6,
     "metadata": {},
     "output_type": "execute_result"
    }
   ],
   "source": [
    "# Check missing data - Many Columns have more than 60% Null value\n",
    "def missing_data(df) :\n",
    "    count = df.isnull().sum()\n",
    "    percent = (df.isnull().sum()) / (df.shape[0]) * 100\n",
    "    total = pd.concat([count, percent], axis=1, keys = ['Count', 'NUll Percent'])\n",
    "    types = []\n",
    "    for col in df.columns :\n",
    "        dtypes = str(df[col].dtype)\n",
    "        types.append(dtypes)\n",
    "    total['dtypes'] = types\n",
    "    \n",
    "    return np.transpose(total)\n",
    "\n",
    "missing_data(train_df)"
   ]
  },
  {
   "cell_type": "code",
   "execution_count": 12,
   "metadata": {},
   "outputs": [
    {
     "data": {
      "text/plain": [
       "array(['dist2', 'R_emaildomain', 'D6', 'D7', 'D8', 'D9', 'D12', 'D13',\n",
       "       'D14', 'V138', 'V139', 'V140', 'V141', 'V142', 'V143', 'V144',\n",
       "       'V145', 'V146', 'V147', 'V148', 'V149', 'V150', 'V151', 'V152',\n",
       "       'V153', 'V154', 'V155', 'V156', 'V157', 'V158', 'V159', 'V160',\n",
       "       'V161', 'V162', 'V163', 'V164', 'V165', 'V166', 'V167', 'V168',\n",
       "       'V169', 'V170', 'V171', 'V172', 'V173', 'V174', 'V175', 'V176',\n",
       "       'V177', 'V178', 'V179', 'V180', 'V181', 'V182', 'V183', 'V184',\n",
       "       'V185', 'V186', 'V187', 'V188', 'V189', 'V190', 'V191', 'V192',\n",
       "       'V193', 'V194', 'V195', 'V196', 'V197', 'V198', 'V199', 'V200',\n",
       "       'V201', 'V202', 'V203', 'V204', 'V205', 'V206', 'V207', 'V208',\n",
       "       'V209', 'V210', 'V211', 'V212', 'V213', 'V214', 'V215', 'V216',\n",
       "       'V217', 'V218', 'V219', 'V220', 'V221', 'V222', 'V223', 'V224',\n",
       "       'V225', 'V226', 'V227', 'V228', 'V229', 'V230', 'V231', 'V232',\n",
       "       'V233', 'V234', 'V235', 'V236', 'V237', 'V238', 'V239', 'V240',\n",
       "       'V241', 'V242', 'V243', 'V244', 'V245', 'V246', 'V247', 'V248',\n",
       "       'V249', 'V250', 'V251', 'V252', 'V253', 'V254', 'V255', 'V256',\n",
       "       'V257', 'V258', 'V259', 'V260', 'V261', 'V262', 'V263', 'V264',\n",
       "       'V265', 'V266', 'V267', 'V268', 'V269', 'V270', 'V271', 'V272',\n",
       "       'V273', 'V274', 'V275', 'V276', 'V277', 'V278', 'V322', 'V323',\n",
       "       'V324', 'V325', 'V326', 'V327', 'V328', 'V329', 'V330', 'V331',\n",
       "       'V332', 'V333', 'V334', 'V335', 'V336', 'V337', 'V338', 'V339',\n",
       "       'id_01', 'id_02', 'id_03', 'id_04', 'id_05', 'id_06', 'id_07',\n",
       "       'id_08', 'id_09', 'id_10', 'id_11', 'id_12', 'id_13', 'id_14',\n",
       "       'id_15', 'id_16', 'id_17', 'id_18', 'id_19', 'id_20', 'id_21',\n",
       "       'id_22', 'id_23', 'id_24', 'id_25', 'id_26', 'id_27', 'id_28',\n",
       "       'id_29', 'id_30', 'id_31', 'id_32', 'id_33', 'id_34', 'id_35',\n",
       "       'id_36', 'id_37', 'id_38', 'DeviceType', 'DeviceInfo'],\n",
       "      dtype=object)"
      ]
     },
     "execution_count": 12,
     "metadata": {},
     "output_type": "execute_result"
    }
   ],
   "source": [
    "cols_to_drop"
   ]
  },
  {
   "cell_type": "code",
   "execution_count": 9,
   "metadata": {},
   "outputs": [],
   "source": [
    "# drop columns with more than 60% missing value\n",
    "null_percent = train_df_simple.isnull().sum()/train_df.shape[0]*100\n",
    "cols_to_drop = np.array(null_percent[null_percent > 60].index)\n",
    "null_percent = test_df_simple.isnull().sum()/test_df_simple.shape[0]*100\n",
    "cols_to_drop_test = np.array(null_percent[null_percent > 60].index)\n",
    "\n",
    "train_df_simple = train_df_simple.drop(cols_to_drop, axis=1)\n",
    "test_df_simple = test_df_simple.drop(cols_to_drop_test, axis=1)\n",
    "train_df_simple= train_df_simple.drop('M5', axis = 1)"
   ]
  },
  {
   "cell_type": "code",
   "execution_count": 11,
   "metadata": {},
   "outputs": [
    {
     "data": {
      "text/plain": [
       "(590540, 225)"
      ]
     },
     "execution_count": 11,
     "metadata": {},
     "output_type": "execute_result"
    }
   ],
   "source": [
    "train_df_simple.shape"
   ]
  },
  {
   "cell_type": "code",
   "execution_count": 8,
   "metadata": {},
   "outputs": [],
   "source": [
    "# fill null value by evaluate each columns' distribution \n",
    "def fillna(train_df_simple):\n",
    "    train_df_simple['card4'].fillna(\"other_card4\", inplace=True)\n",
    "    train_df_simple['card6'].fillna(\"other_card6\", inplace=True)\n",
    "    train_df_simple['card2'].fillna(value=train_df_simple['card2'].mode()[0], inplace=True)\n",
    "    train_df_simple['card3'].fillna(value=train_df_simple['card3'].mode()[0], inplace=True)\n",
    "    train_df_simple['card5'].fillna(value=train_df_simple['card5'].mode()[0], inplace=True)\n",
    "    train_df_simple['addr1'].fillna(value=train_df_simple['addr1'].mode()[0], inplace=True)\n",
    "    train_df_simple['addr2'].fillna(value=train_df_simple['addr2'].mode()[0], inplace=True)\n",
    "    c_lst = ['C1', 'C2', 'C3', 'C4','C5', 'C6', 'C7', 'C8', 'C9', 'C10', 'C11', 'C12', 'C13', 'C14']\n",
    "    m_lst = ['M1', 'M2', 'M3', 'M4', 'M6', 'M7', 'M8', 'M9']\n",
    "    d_lst = ['D1', 'D2', 'D3', 'D4', 'D5', 'D10', 'D11', 'D15']\n",
    "    v_lst = ['V1', 'V2', 'V3', 'V4', 'V5',\n",
    "           'V6', 'V7', 'V8', 'V9', 'V10', 'V11', 'V12', 'V13', 'V14', 'V15',\n",
    "           'V16', 'V17', 'V18', 'V19', 'V20', 'V21', 'V22', 'V23', 'V24',\n",
    "           'V25', 'V26', 'V27', 'V28', 'V29', 'V30', 'V31', 'V32', 'V33',\n",
    "           'V34', 'V35', 'V36', 'V37', 'V38', 'V39', 'V40', 'V41', 'V42',\n",
    "           'V43', 'V44', 'V45', 'V46', 'V47', 'V48', 'V49', 'V50', 'V51',\n",
    "           'V52', 'V53', 'V54', 'V55', 'V56', 'V57', 'V58', 'V59', 'V60',\n",
    "           'V61', 'V62', 'V63', 'V64', 'V65', 'V66', 'V67', 'V68', 'V69',\n",
    "           'V70', 'V71', 'V72', 'V73', 'V74', 'V75', 'V76', 'V77', 'V78',\n",
    "           'V79', 'V80', 'V81', 'V82', 'V83', 'V84', 'V85', 'V86', 'V87',\n",
    "           'V88', 'V89', 'V90', 'V91', 'V92', 'V93', 'V94', 'V95', 'V96',\n",
    "           'V97', 'V98', 'V99', 'V100', 'V101', 'V102', 'V103', 'V104',\n",
    "           'V105', 'V106', 'V107', 'V108', 'V109', 'V110', 'V111', 'V112',\n",
    "           'V113', 'V114', 'V115', 'V116', 'V117', 'V118', 'V119', 'V120',\n",
    "           'V121', 'V122', 'V123', 'V124', 'V125', 'V126', 'V127', 'V128',\n",
    "           'V129', 'V130', 'V131', 'V132', 'V133', 'V134', 'V135', 'V136',\n",
    "           'V137', 'V279', 'V280', 'V281', 'V282', 'V283', 'V284', 'V285',\n",
    "           'V286', 'V287', 'V288', 'V289', 'V290', 'V291', 'V292', 'V293',\n",
    "           'V294', 'V295', 'V296', 'V297', 'V298', 'V299', 'V300', 'V301',\n",
    "           'V302', 'V303', 'V304', 'V305', 'V306', 'V307', 'V308', 'V309',\n",
    "           'V310', 'V311', 'V312', 'V313', 'V314', 'V315', 'V316', 'V317',\n",
    "           'V318', 'V319', 'V320', 'V321']\n",
    "    for c in c_lst:\n",
    "        train_df_simple[c].fillna(value=train_df_simple[c].mode()[0], inplace=True)\n",
    "    for d in d_lst:\n",
    "        train_df_simple[d].fillna(value=train_df_simple[d].mode()[0], inplace=True)\n",
    "    for m in m_lst:\n",
    "        train_df_simple[m].fillna(value= \"other\", inplace=True)\n",
    "    for v in v_lst:\n",
    "        train_df_simple[v].fillna(value= train_df_simple[v].mode()[0], inplace=True)\n",
    "    train_df_simple[\"P_emaildomain\"].fillna(value= \"otherEmail\", inplace=True)\n",
    "    train_df_simple[\"dist1\"].fillna(value= train_df_simple[\"dist1\"].median(), inplace=True)\n",
    "    train_df_simple= train_df_simple.set_index(\"TransactionID\")\n",
    "    return train_df_simple"
   ]
  },
  {
   "cell_type": "code",
   "execution_count": 9,
   "metadata": {},
   "outputs": [],
   "source": [
    "train_df_simple = fillna(train_df_simple)"
   ]
  },
  {
   "cell_type": "code",
   "execution_count": 10,
   "metadata": {},
   "outputs": [],
   "source": [
    "test_df_simple = fillna(test_df_simple)"
   ]
  },
  {
   "cell_type": "code",
   "execution_count": 11,
   "metadata": {},
   "outputs": [],
   "source": [
    "# got dummies variable\n",
    "def get_dummies(train_df_simple):\n",
    "    object_list = []\n",
    "    for f in train_df_simple.columns:\n",
    "        if train_df_simple[f].dtype=='object': \n",
    "            object_list.append(f)\n",
    "    train_df_simple = pd.get_dummies(train_df_simple, columns= object_list, prefix=object_list)\n",
    "    return train_df_simple"
   ]
  },
  {
   "cell_type": "code",
   "execution_count": 12,
   "metadata": {},
   "outputs": [],
   "source": [
    "train_df_simple = get_dummies(train_df_simple)\n",
    "test_df_simple = get_dummies(test_df_simple)"
   ]
  },
  {
   "cell_type": "code",
   "execution_count": 98,
   "metadata": {},
   "outputs": [
    {
     "data": {
      "text/plain": [
       "Index(['P_emaildomain_scranton.edu'], dtype='object')"
      ]
     },
     "execution_count": 98,
     "metadata": {},
     "output_type": "execute_result"
    }
   ],
   "source": [
    "train_df_simple.columns.difference(test_df_simple.columns)"
   ]
  },
  {
   "cell_type": "code",
   "execution_count": 97,
   "metadata": {},
   "outputs": [
    {
     "data": {
      "text/plain": [
       "Index(['P_emaildomain_scranton.edu'], dtype='object')"
      ]
     },
     "execution_count": 97,
     "metadata": {},
     "output_type": "execute_result"
    }
   ],
   "source": [
    "test_df_simple.columns.difference(train_df_simple.columns)"
   ]
  },
  {
   "cell_type": "code",
   "execution_count": 13,
   "metadata": {},
   "outputs": [],
   "source": [
    "# making both test and training dataset have same columns \n",
    "train_df_simple= train_df_simple.drop('card6_debit or credit', axis =1)\n",
    "test_df_simple= test_df_simple.drop('P_emaildomain_scranton.edu', axis =1)"
   ]
  },
  {
   "cell_type": "markdown",
   "metadata": {},
   "source": [
    "### 小結: \n",
    "* 這塊除了做以上的處理外, 還有想過對某些資料為編號類型的columns (像是addr1, addr2, card) 做 cutting columns by bins. \n",
    "* 原意是將編號類型但有順序意義的columns 轉換成區間的方式使用. \n",
    "* 例如 addr1, addr2 可能是類似行政區號的data, 做bins並設置適當的bins size預期可以讓同一區的資料合再一起.\n",
    "* 但由於目前資訊無法推斷如何設置bins大小來達到此效果, 若將資料做不當的bins size 反而會遮蔽data本身能帶來的效果. 因此不做改動. \n"
   ]
  },
  {
   "cell_type": "markdown",
   "metadata": {},
   "source": [
    "# 3. Improved Logistic Regression "
   ]
  },
  {
   "cell_type": "code",
   "execution_count": 7,
   "metadata": {},
   "outputs": [
    {
     "name": "stdout",
     "output_type": "stream",
     "text": [
      "train_df_simple:  (590540, 226)\n",
      "test_df_simple:  (506691, 224)\n"
     ]
    }
   ],
   "source": [
    "print(\"train_df_simple: \" , train_df_simple.shape)\n",
    "print(\"test_df_simple: \" , test_df_simple.shape)"
   ]
  },
  {
   "cell_type": "code",
   "execution_count": 14,
   "metadata": {},
   "outputs": [],
   "source": [
    "train_simple_y = train_df_simple['isFraud']\n",
    "train_simple_x = train_df_simple.drop('isFraud', axis=1)"
   ]
  },
  {
   "cell_type": "code",
   "execution_count": 34,
   "metadata": {},
   "outputs": [],
   "source": [
    "#Standlized the dataset (result a little bit better than normalized it)\n",
    "float_lst = []\n",
    "for f in train_simple_x.columns:\n",
    "    if train_simple_x[f].dtype=='float' or train_simple_x[f].dtype=='int': \n",
    "        float_lst.append(f)\n",
    "for i in float_lst:\n",
    "    train_simple_x[i] = (train_simple_x[i]-train_simple_x[i].mean())/train_simple_x[i].std()\n",
    "    #train_simple_x[i] = (train_simple_x[i]-train_simple_x[i].min())/(train_simple_x[i].max()-train_simple_x[i].min())"
   ]
  },
  {
   "cell_type": "code",
   "execution_count": 42,
   "metadata": {},
   "outputs": [],
   "source": [
    "SEED = 123\n",
    "random.seed(SEED)\n",
    "X_train, X_test, y_train, y_test = train_test_split(train_simple_x, train_simple_y, test_size=0.3, random_state=42)"
   ]
  },
  {
   "cell_type": "code",
   "execution_count": 43,
   "metadata": {},
   "outputs": [
    {
     "data": {
      "text/plain": [
       "LogisticRegression(C=1.0, class_weight=None, dual=False, fit_intercept=True,\n",
       "                   intercept_scaling=1, l1_ratio=None, max_iter=100,\n",
       "                   multi_class='warn', n_jobs=None, penalty='l2',\n",
       "                   random_state=None, solver='liblinear', tol=0.0001, verbose=0,\n",
       "                   warm_start=False)"
      ]
     },
     "execution_count": 43,
     "metadata": {},
     "output_type": "execute_result"
    }
   ],
   "source": [
    "logistic_regression = LogisticRegression(solver=\"liblinear\")\n",
    "logistic_regression.fit(X_train,y_train)"
   ]
  },
  {
   "cell_type": "code",
   "execution_count": 44,
   "metadata": {},
   "outputs": [],
   "source": [
    "#ROC for testing data\n",
    "probs = logistic_regression.predict_proba(X_test)\n",
    "preds = probs[:,1]\n",
    "lw = 2\n",
    "fpr, tpr, threshold = roc_curve(y_test, preds)\n",
    "roc_auc = auc(fpr, tpr)"
   ]
  },
  {
   "cell_type": "code",
   "execution_count": 45,
   "metadata": {
    "scrolled": true
   },
   "outputs": [
    {
     "data": {
      "image/png": "[encoded data removed]",
      "text/plain": [
       "<Figure size 432x288 with 1 Axes>"
      ]
     },
     "metadata": {
      "needs_background": "light"
     },
     "output_type": "display_data"
    }
   ],
   "source": [
    "plt.figure()\n",
    "plt.plot(fpr, tpr, color='darkorange',\n",
    "    lw=lw, label='ROC curve (area = %0.2f)' % roc_auc) ###假正率為橫座標，真正率為縱座標做曲線\n",
    "plt.plot([0, 1], [0, 1], color='navy', lw=lw, linestyle='--')\n",
    "plt.xlim([0.0, 1.0])\n",
    "plt.ylim([0.0, 1.05])\n",
    "plt.xlabel('False Positive Rate')\n",
    "plt.ylabel('True Positive Rate')\n",
    "plt.title('ROC curve')\n",
    "plt.legend(loc=\"lower right\")\n",
    "plt.show()"
   ]
  },
  {
   "cell_type": "code",
   "execution_count": 107,
   "metadata": {},
   "outputs": [
    {
     "data": {
      "text/plain": [
       "0.8441197670084698"
      ]
     },
     "execution_count": 107,
     "metadata": {},
     "output_type": "execute_result"
    }
   ],
   "source": [
    "#ROC for training data\n",
    "probs = logistic_regression.predict_proba(X_train)\n",
    "preds = probs[:,1]\n",
    "lw = 2\n",
    "fpr, tpr, threshold = roc_curve(y_train, preds)\n",
    "roc_auc = auc(fpr, tpr)\n",
    "roc_auc"
   ]
  },
  {
   "cell_type": "markdown",
   "metadata": {},
   "source": [
    "### traing AUC (0.84) and testing AUC (0.85) 相差不大, 目前沒有看到overfitting的問題"
   ]
  },
  {
   "cell_type": "code",
   "execution_count": 46,
   "metadata": {},
   "outputs": [],
   "source": [
    "model = sm.OLS(endog= y_train, exog= X_train)"
   ]
  },
  {
   "cell_type": "code",
   "execution_count": 48,
   "metadata": {},
   "outputs": [],
   "source": [
    "result = model.fit()"
   ]
  },
  {
   "cell_type": "code",
   "execution_count": 87,
   "metadata": {},
   "outputs": [],
   "source": [
    "# coefficient for logistic regression\n",
    "# result.summary()\n",
    "# 執行後的太佔空間, 不顯示於submit file 中"
   ]
  },
  {
   "cell_type": "markdown",
   "metadata": {},
   "source": [
    "### 小結: Logistic Regression能達到 0.85 AUC 且沒有overfitting的情形發生. 要再近一步提升AUC 需要花大量時間進行feature research. 這邊先嘗試 fit tree-based model."
   ]
  },
  {
   "cell_type": "markdown",
   "metadata": {},
   "source": [
    "# 4. Tree-based model (XGboost)"
   ]
  },
  {
   "cell_type": "code",
   "execution_count": 15,
   "metadata": {},
   "outputs": [],
   "source": [
    "train_simple_y_tree = train_df_simple['isFraud']\n",
    "train_simple_x_tree = train_df_simple.drop('isFraud', axis=1)"
   ]
  },
  {
   "cell_type": "code",
   "execution_count": 17,
   "metadata": {},
   "outputs": [],
   "source": [
    "SEED = 123\n",
    "random.seed(SEED)\n",
    "X_train2, X_test2, y_train2, y_test2 = train_test_split(train_simple_x_tree, train_simple_y_tree, test_size=0.1, random_state=42)\n"
   ]
  },
  {
   "cell_type": "code",
   "execution_count": 38,
   "metadata": {},
   "outputs": [],
   "source": [
    "SEED = 333\n",
    "random.seed(SEED)\n",
    "X_train3, X_val3, y_train3, y_val3 = train_test_split(X_train2, y_train2, test_size=0.1, random_state=42)"
   ]
  },
  {
   "cell_type": "code",
   "execution_count": 40,
   "metadata": {},
   "outputs": [
    {
     "data": {
      "text/plain": [
       "(478337, 310)"
      ]
     },
     "execution_count": 40,
     "metadata": {},
     "output_type": "execute_result"
    }
   ],
   "source": [
    "X_train3.shape"
   ]
  },
  {
   "cell_type": "code",
   "execution_count": 23,
   "metadata": {},
   "outputs": [
    {
     "data": {
      "text/plain": [
       "XGBClassifier(base_score=0.5, booster='gbtree', colsample_bylevel=1,\n",
       "              colsample_bynode=1, colsample_bytree=1, gamma=0, gpu_id=-1,\n",
       "              importance_type='gain', interaction_constraints='',\n",
       "              learning_rate=0.300000012, max_delta_step=0, max_depth=6,\n",
       "              min_child_weight=1, missing=nan, monotone_constraints='()',\n",
       "              n_estimators=100, n_jobs=0, num_parallel_tree=1,\n",
       "              objective='binary:logistic', random_state=0, reg_alpha=0,\n",
       "              reg_lambda=1, scale_pos_weight=1, subsample=1,\n",
       "              tree_method='exact', validate_parameters=1, verbosity=None)"
      ]
     },
     "execution_count": 23,
     "metadata": {},
     "output_type": "execute_result"
    }
   ],
   "source": [
    "clf = XGBClassifier()\n",
    "clf.fit(X_train3,y_train3,eval_metric='auc')"
   ]
  },
  {
   "cell_type": "code",
   "execution_count": 24,
   "metadata": {},
   "outputs": [],
   "source": [
    "y_predprob = clf.predict_proba(X_test3)\n",
    "y_predprob = y_predprob[:,1]"
   ]
  },
  {
   "cell_type": "code",
   "execution_count": 26,
   "metadata": {},
   "outputs": [
    {
     "data": {
      "image/png": "[encoded data removed]",
      "text/plain": [
       "<Figure size 432x288 with 1 Axes>"
      ]
     },
     "metadata": {
      "needs_background": "light"
     },
     "output_type": "display_data"
    }
   ],
   "source": [
    "#Plot ROC curve \n",
    "lw = 2\n",
    "fpr, tpr, threshold = roc_curve(y_test3, y_predprob)\n",
    "roc_auc = auc(fpr, tpr)\n",
    "plt.figure()\n",
    "plt.plot(fpr, tpr, color='darkorange',\n",
    "    lw=lw, label='ROC curve (area = %0.2f)' % roc_auc) ###假正率為橫座標，真正率為縱座標做曲線\n",
    "plt.plot([0, 1], [0, 1], color='navy', lw=lw, linestyle='--')\n",
    "plt.xlim([0.0, 1.0])\n",
    "plt.ylim([0.0, 1.05])\n",
    "plt.xlabel('False Positive Rate')\n",
    "plt.ylabel('True Positive Rate')\n",
    "plt.title('ROC curve for tried #2')\n",
    "plt.legend(loc=\"lower right\")\n",
    "plt.show()"
   ]
  },
  {
   "cell_type": "code",
   "execution_count": 27,
   "metadata": {},
   "outputs": [],
   "source": [
    "y_predprob = clf.predict_proba(X_test2)\n",
    "y_predprob = y_predprob[:,1]\n",
    "fpr, tpr, threshold = roc_curve(y_test2, y_predprob)\n",
    "roc_auc = auc(fpr, tpr)"
   ]
  },
  {
   "cell_type": "code",
   "execution_count": 28,
   "metadata": {},
   "outputs": [
    {
     "data": {
      "text/plain": [
       "0.9386217458128951"
      ]
     },
     "execution_count": 28,
     "metadata": {},
     "output_type": "execute_result"
    }
   ],
   "source": [
    "roc_auc"
   ]
  },
  {
   "cell_type": "code",
   "execution_count": 109,
   "metadata": {},
   "outputs": [],
   "source": [
    "# observed AUC for training data set \n",
    "y_predprob_train = clf.predict_proba(X_train2)\n",
    "y_predprob_train = y_predprob_train[:,1]"
   ]
  },
  {
   "cell_type": "code",
   "execution_count": 110,
   "metadata": {},
   "outputs": [
    {
     "data": {
      "text/plain": [
       "0.9558383822687903"
      ]
     },
     "execution_count": 110,
     "metadata": {},
     "output_type": "execute_result"
    }
   ],
   "source": [
    "fpr, tpr, threshold = roc_curve(y_train2, y_predprob_train)\n",
    "roc_auc = auc(fpr, tpr)\n",
    "roc_auc"
   ]
  },
  {
   "cell_type": "markdown",
   "metadata": {},
   "source": [
    "### 在設XGboost parameter default 情況下 AUC已經可以得到0.94結果, 預期調整parameter帶來的提升比較有限, 因此用此training model 來做prediction. "
   ]
  },
  {
   "cell_type": "markdown",
   "metadata": {},
   "source": [
    "# 5. Predict testing dataset by XGboost model\n",
    "    * 利用上面train 的model 找尋optimal threshold (最小化total cost)\n",
    "    * 假定 false negative cost 極高, 為 false positive cost 的 100 倍\n",
    "   "
   ]
  },
  {
   "cell_type": "code",
   "execution_count": 45,
   "metadata": {},
   "outputs": [
    {
     "data": {
      "text/html": [
       "<div>\n",
       "<style scoped>\n",
       "    .dataframe tbody tr th:only-of-type {\n",
       "        vertical-align: middle;\n",
       "    }\n",
       "\n",
       "    .dataframe tbody tr th {\n",
       "        vertical-align: top;\n",
       "    }\n",
       "\n",
       "    .dataframe thead th {\n",
       "        text-align: right;\n",
       "    }\n",
       "</style>\n",
       "<table border=\"1\" class=\"dataframe\">\n",
       "  <thead>\n",
       "    <tr style=\"text-align: right;\">\n",
       "      <th></th>\n",
       "      <th>fpr</th>\n",
       "      <th>tpr</th>\n",
       "      <th>1-fpr</th>\n",
       "      <th>tf</th>\n",
       "      <th>thresholds</th>\n",
       "    </tr>\n",
       "  </thead>\n",
       "  <tbody>\n",
       "    <tr>\n",
       "      <th>0</th>\n",
       "      <td>0.0</td>\n",
       "      <td>0.000000</td>\n",
       "      <td>1.0</td>\n",
       "      <td>-1.000000</td>\n",
       "      <td>1.999627</td>\n",
       "    </tr>\n",
       "    <tr>\n",
       "      <th>1</th>\n",
       "      <td>0.0</td>\n",
       "      <td>0.000158</td>\n",
       "      <td>1.0</td>\n",
       "      <td>-0.999842</td>\n",
       "      <td>0.999627</td>\n",
       "    </tr>\n",
       "    <tr>\n",
       "      <th>2</th>\n",
       "      <td>0.0</td>\n",
       "      <td>0.017663</td>\n",
       "      <td>1.0</td>\n",
       "      <td>-0.982337</td>\n",
       "      <td>0.996015</td>\n",
       "    </tr>\n",
       "    <tr>\n",
       "      <th>3</th>\n",
       "      <td>0.0</td>\n",
       "      <td>0.017978</td>\n",
       "      <td>1.0</td>\n",
       "      <td>-0.982022</td>\n",
       "      <td>0.996000</td>\n",
       "    </tr>\n",
       "    <tr>\n",
       "      <th>4</th>\n",
       "      <td>0.0</td>\n",
       "      <td>0.018136</td>\n",
       "      <td>1.0</td>\n",
       "      <td>-0.981864</td>\n",
       "      <td>0.995970</td>\n",
       "    </tr>\n",
       "  </tbody>\n",
       "</table>\n",
       "</div>"
      ],
      "text/plain": [
       "   fpr       tpr  1-fpr        tf  thresholds\n",
       "0  0.0  0.000000    1.0 -1.000000    1.999627\n",
       "1  0.0  0.000158    1.0 -0.999842    0.999627\n",
       "2  0.0  0.017663    1.0 -0.982337    0.996015\n",
       "3  0.0  0.017978    1.0 -0.982022    0.996000\n",
       "4  0.0  0.018136    1.0 -0.981864    0.995970"
      ]
     },
     "execution_count": 45,
     "metadata": {},
     "output_type": "execute_result"
    }
   ],
   "source": [
    "#got tpr, fpr by thresholds\n",
    "i = np.arange(len(tpr)) # index for df\n",
    "roc = pd.DataFrame({'fpr' : pd.Series(fpr, index=i),'tpr' : pd.Series(tpr, index = i), '1-fpr' : pd.Series(1-fpr, index = i), 'tf' : pd.Series(tpr - (1-fpr), index = i), 'thresholds' : pd.Series(threshold, index = i)})\n",
    "roc.head()"
   ]
  },
  {
   "cell_type": "code",
   "execution_count": 27,
   "metadata": {},
   "outputs": [],
   "source": [
    "# kept tpr over 0.7 thresholds to caculate total cost\n",
    "tprOver0_7_thresholds = roc.loc[roc[\"thresholds\"] <0.1]\n",
    "tprOver0_7_thresholds = tprOver0_7_thresholds.thresholds"
   ]
  },
  {
   "cell_type": "code",
   "execution_count": 32,
   "metadata": {},
   "outputs": [],
   "source": [
    "# caculated total cost by each threshold\n",
    "# false negative cost : false positive cost 100 : 1 \n",
    "total_cost_lst = []\n",
    "for cutoff in tprOver0_7_thresholds:\n",
    "    y_predict = np.where(y_predprob >= cutoff, 1, 0)\n",
    "    from sklearn.metrics import confusion_matrix\n",
    "    confusion_matrix = confusion_matrix(y_test2, y_predict)\n",
    "    False_negative_cost = confusion_matrix[1][0]*100 \n",
    "    False_positive_cost = confusion_matrix[0][1]\n",
    "    total_cost = False_negative_cost + False_positive_cost\n",
    "    total_cost_lst.append(total_cost)"
   ]
  },
  {
   "cell_type": "code",
   "execution_count": 56,
   "metadata": {},
   "outputs": [
    {
     "name": "stdout",
     "output_type": "stream",
     "text": [
      "Minimun total cost: 93683\n"
     ]
    }
   ],
   "source": [
    "print(\"Minimun total cost:\", min(total_cost_lst))"
   ]
  },
  {
   "cell_type": "code",
   "execution_count": 58,
   "metadata": {},
   "outputs": [
    {
     "name": "stdout",
     "output_type": "stream",
     "text": [
      "Optimal threshold:  0.023098843\n"
     ]
    }
   ],
   "source": [
    "optimal_threshold = tprOver0_7_thresholds[total_cost_lst.index(min(total_cost_lst))]\n",
    "print(\"Optimal threshold: \" , optimal_threshold)"
   ]
  },
  {
   "cell_type": "code",
   "execution_count": 53,
   "metadata": {},
   "outputs": [
    {
     "data": {
      "text/plain": [
       "array([[142134,  28687],\n",
       "       [   759,   5582]])"
      ]
     },
     "execution_count": 53,
     "metadata": {},
     "output_type": "execute_result"
    }
   ],
   "source": [
    "y_predict = np.where(y_predprob >= optimal_threshold, 1, 0)\n",
    "confusion_matrix(y_test2, y_predict)"
   ]
  },
  {
   "cell_type": "code",
   "execution_count": 54,
   "metadata": {},
   "outputs": [
    {
     "name": "stdout",
     "output_type": "stream",
     "text": [
      "0.88030279135783\n"
     ]
    }
   ],
   "source": [
    "print(recall_score(y_test2, y_predict))"
   ]
  },
  {
   "cell_type": "code",
   "execution_count": 59,
   "metadata": {},
   "outputs": [],
   "source": [
    "y_predprob_test = clf.predict_proba(test_df_simple)"
   ]
  },
  {
   "cell_type": "code",
   "execution_count": 60,
   "metadata": {},
   "outputs": [],
   "source": [
    "y_predprob_test = y_predprob_test[:, 1]\n",
    "y_predict_test = np.where(y_predprob_test >= optimal_threshold, 1, 0)"
   ]
  },
  {
   "cell_type": "code",
   "execution_count": 61,
   "metadata": {},
   "outputs": [],
   "source": [
    "test_df_simple[\"isFraud\"] = y_predict_test"
   ]
  },
  {
   "cell_type": "markdown",
   "metadata": {},
   "source": [
    "### 小結：假設False Negative Cost : False Positive Cost  = 100 : 1\n",
    "    * False Negative Cost (漏判斷 Frauds 的 Cost 極大)\n",
    "    * False Positive Cost (Operation Cost, 部分User switching Cost)\n",
    "    * 這邊的 optimal cut off 會是最小化 total cost , threshold 取0.023098843 可以得到 tpr 88% 定且得到 Minimun total   cost: $93683"
   ]
  },
  {
   "cell_type": "markdown",
   "metadata": {},
   "source": [
    "# 6. Define users and find fraud users\n",
    "    * 透過相同的user info (card1, card2, card3, card4, card5, card6, addr1, addr2) 來判別是否為同個user\n",
    "    * 計算Train data set 每個User 有多少筆 Fraud transaction \n",
    "    * 計算Test data set 每個User 有多少筆 Fraud transaction (上一步model prediction 的結果 ) \n",
    "    * 定義Fraud User：User 有一筆以上Fraud transaction\n",
    "    * 目標為低false negative (預測結果為not Fraud User，但事實上卻是Fraud User)"
   ]
  },
  {
   "cell_type": "markdown",
   "metadata": {},
   "source": [
    "### Caculate fraud user in training data set"
   ]
  },
  {
   "cell_type": "code",
   "execution_count": 4,
   "metadata": {},
   "outputs": [
    {
     "data": {
      "text/html": [
       "<div>\n",
       "<style scoped>\n",
       "    .dataframe tbody tr th:only-of-type {\n",
       "        vertical-align: middle;\n",
       "    }\n",
       "\n",
       "    .dataframe tbody tr th {\n",
       "        vertical-align: top;\n",
       "    }\n",
       "\n",
       "    .dataframe thead th {\n",
       "        text-align: right;\n",
       "    }\n",
       "</style>\n",
       "<table border=\"1\" class=\"dataframe\">\n",
       "  <thead>\n",
       "    <tr style=\"text-align: right;\">\n",
       "      <th></th>\n",
       "      <th>TransactionID</th>\n",
       "      <th>isFraud</th>\n",
       "      <th>TransactionDT</th>\n",
       "      <th>TransactionAmt</th>\n",
       "      <th>ProductCD</th>\n",
       "      <th>card1</th>\n",
       "      <th>card2</th>\n",
       "      <th>card3</th>\n",
       "      <th>card4</th>\n",
       "      <th>card5</th>\n",
       "      <th>...</th>\n",
       "      <th>id_31</th>\n",
       "      <th>id_32</th>\n",
       "      <th>id_33</th>\n",
       "      <th>id_34</th>\n",
       "      <th>id_35</th>\n",
       "      <th>id_36</th>\n",
       "      <th>id_37</th>\n",
       "      <th>id_38</th>\n",
       "      <th>DeviceType</th>\n",
       "      <th>DeviceInfo</th>\n",
       "    </tr>\n",
       "  </thead>\n",
       "  <tbody>\n",
       "    <tr>\n",
       "      <th>0</th>\n",
       "      <td>2987000</td>\n",
       "      <td>0</td>\n",
       "      <td>86400</td>\n",
       "      <td>68.5</td>\n",
       "      <td>W</td>\n",
       "      <td>13926</td>\n",
       "      <td>NaN</td>\n",
       "      <td>150.0</td>\n",
       "      <td>discover</td>\n",
       "      <td>142.0</td>\n",
       "      <td>...</td>\n",
       "      <td>NaN</td>\n",
       "      <td>NaN</td>\n",
       "      <td>NaN</td>\n",
       "      <td>NaN</td>\n",
       "      <td>NaN</td>\n",
       "      <td>NaN</td>\n",
       "      <td>NaN</td>\n",
       "      <td>NaN</td>\n",
       "      <td>NaN</td>\n",
       "      <td>NaN</td>\n",
       "    </tr>\n",
       "    <tr>\n",
       "      <th>1</th>\n",
       "      <td>2987001</td>\n",
       "      <td>0</td>\n",
       "      <td>86401</td>\n",
       "      <td>29.0</td>\n",
       "      <td>W</td>\n",
       "      <td>2755</td>\n",
       "      <td>404.0</td>\n",
       "      <td>150.0</td>\n",
       "      <td>mastercard</td>\n",
       "      <td>102.0</td>\n",
       "      <td>...</td>\n",
       "      <td>NaN</td>\n",
       "      <td>NaN</td>\n",
       "      <td>NaN</td>\n",
       "      <td>NaN</td>\n",
       "      <td>NaN</td>\n",
       "      <td>NaN</td>\n",
       "      <td>NaN</td>\n",
       "      <td>NaN</td>\n",
       "      <td>NaN</td>\n",
       "      <td>NaN</td>\n",
       "    </tr>\n",
       "    <tr>\n",
       "      <th>2</th>\n",
       "      <td>2987002</td>\n",
       "      <td>0</td>\n",
       "      <td>86469</td>\n",
       "      <td>59.0</td>\n",
       "      <td>W</td>\n",
       "      <td>4663</td>\n",
       "      <td>490.0</td>\n",
       "      <td>150.0</td>\n",
       "      <td>visa</td>\n",
       "      <td>166.0</td>\n",
       "      <td>...</td>\n",
       "      <td>NaN</td>\n",
       "      <td>NaN</td>\n",
       "      <td>NaN</td>\n",
       "      <td>NaN</td>\n",
       "      <td>NaN</td>\n",
       "      <td>NaN</td>\n",
       "      <td>NaN</td>\n",
       "      <td>NaN</td>\n",
       "      <td>NaN</td>\n",
       "      <td>NaN</td>\n",
       "    </tr>\n",
       "    <tr>\n",
       "      <th>3</th>\n",
       "      <td>2987003</td>\n",
       "      <td>0</td>\n",
       "      <td>86499</td>\n",
       "      <td>50.0</td>\n",
       "      <td>W</td>\n",
       "      <td>18132</td>\n",
       "      <td>567.0</td>\n",
       "      <td>150.0</td>\n",
       "      <td>mastercard</td>\n",
       "      <td>117.0</td>\n",
       "      <td>...</td>\n",
       "      <td>NaN</td>\n",
       "      <td>NaN</td>\n",
       "      <td>NaN</td>\n",
       "      <td>NaN</td>\n",
       "      <td>NaN</td>\n",
       "      <td>NaN</td>\n",
       "      <td>NaN</td>\n",
       "      <td>NaN</td>\n",
       "      <td>NaN</td>\n",
       "      <td>NaN</td>\n",
       "    </tr>\n",
       "    <tr>\n",
       "      <th>4</th>\n",
       "      <td>2987004</td>\n",
       "      <td>0</td>\n",
       "      <td>86506</td>\n",
       "      <td>50.0</td>\n",
       "      <td>H</td>\n",
       "      <td>4497</td>\n",
       "      <td>514.0</td>\n",
       "      <td>150.0</td>\n",
       "      <td>mastercard</td>\n",
       "      <td>102.0</td>\n",
       "      <td>...</td>\n",
       "      <td>samsung browser 6.2</td>\n",
       "      <td>32.0</td>\n",
       "      <td>2220x1080</td>\n",
       "      <td>match_status:2</td>\n",
       "      <td>T</td>\n",
       "      <td>F</td>\n",
       "      <td>T</td>\n",
       "      <td>T</td>\n",
       "      <td>mobile</td>\n",
       "      <td>SAMSUNG SM-G892A Build/NRD90M</td>\n",
       "    </tr>\n",
       "  </tbody>\n",
       "</table>\n",
       "<p>5 rows × 434 columns</p>\n",
       "</div>"
      ],
      "text/plain": [
       "   TransactionID  isFraud  TransactionDT  TransactionAmt ProductCD  card1  \\\n",
       "0        2987000        0          86400            68.5         W  13926   \n",
       "1        2987001        0          86401            29.0         W   2755   \n",
       "2        2987002        0          86469            59.0         W   4663   \n",
       "3        2987003        0          86499            50.0         W  18132   \n",
       "4        2987004        0          86506            50.0         H   4497   \n",
       "\n",
       "   card2  card3       card4  card5  ...                id_31  id_32  \\\n",
       "0    NaN  150.0    discover  142.0  ...                  NaN    NaN   \n",
       "1  404.0  150.0  mastercard  102.0  ...                  NaN    NaN   \n",
       "2  490.0  150.0        visa  166.0  ...                  NaN    NaN   \n",
       "3  567.0  150.0  mastercard  117.0  ...                  NaN    NaN   \n",
       "4  514.0  150.0  mastercard  102.0  ...  samsung browser 6.2   32.0   \n",
       "\n",
       "       id_33           id_34  id_35 id_36 id_37  id_38  DeviceType  \\\n",
       "0        NaN             NaN    NaN   NaN   NaN    NaN         NaN   \n",
       "1        NaN             NaN    NaN   NaN   NaN    NaN         NaN   \n",
       "2        NaN             NaN    NaN   NaN   NaN    NaN         NaN   \n",
       "3        NaN             NaN    NaN   NaN   NaN    NaN         NaN   \n",
       "4  2220x1080  match_status:2      T     F     T      T      mobile   \n",
       "\n",
       "                      DeviceInfo  \n",
       "0                            NaN  \n",
       "1                            NaN  \n",
       "2                            NaN  \n",
       "3                            NaN  \n",
       "4  SAMSUNG SM-G892A Build/NRD90M  \n",
       "\n",
       "[5 rows x 434 columns]"
      ]
     },
     "execution_count": 4,
     "metadata": {},
     "output_type": "execute_result"
    }
   ],
   "source": [
    "train_df.head()"
   ]
  },
  {
   "cell_type": "code",
   "execution_count": 23,
   "metadata": {},
   "outputs": [],
   "source": [
    "train_df_origin_user = train_df[[\"TransactionID\", \"card1\", \"card2\", \"card3\", \"card4\", \n",
    "                                 \"card5\", \"card6\", \"addr1\", \"addr2\", \"isFraud\"]]\n",
    "train_df_origin_user = train_df_origin_user.fillna(-999)\n",
    "train_df_origin_user = train_df_origin_user.set_index(\"TransactionID\")\n"
   ]
  },
  {
   "cell_type": "code",
   "execution_count": 24,
   "metadata": {},
   "outputs": [],
   "source": [
    "train_df_origin_user = train_df_origin_user.sort_values(by=[\"card1\", \"card2\", \"card3\", \"card4\", \"card5\", \"card6\", \"addr1\", \"addr2\"])\n",
    "train_df_origin_user['userInfo'] = train_df_origin_user[train_df_origin_user.columns[0:8]].apply(\n",
    "    lambda x: ','.join(x.dropna().astype(str)),axis=1)"
   ]
  },
  {
   "cell_type": "code",
   "execution_count": 25,
   "metadata": {},
   "outputs": [],
   "source": [
    "lst = [1]\n",
    "user_index = 1\n",
    "index_arr = train_df_origin_user.index\n",
    "for i in range(1, len(index_arr)):\n",
    "    if train_df_origin_user.loc[index_arr[i], \"userInfo\"] == train_df_origin_user.loc[index_arr[i-1], \"userInfo\"]:\n",
    "            lst.append(user_index)\n",
    "    else:\n",
    "        user_index +=1\n",
    "        lst.append(user_index)\n",
    "\n",
    "train_df_origin_user[\"userID\"] = lst "
   ]
  },
  {
   "cell_type": "code",
   "execution_count": 38,
   "metadata": {},
   "outputs": [],
   "source": [
    "train_df_fraud_user = train_df_origin_user[[\"userID\", \"isFraud\"]].groupby(['userID']).sum()\n",
    "Fraud_user_train = train_df_fraud_user.loc[train_df_fraud_user[\"isFraud\"] >=1].rename(columns = {\"isFraud\": \"Number Of Fraud transactions\"})\n"
   ]
  },
  {
   "cell_type": "code",
   "execution_count": 41,
   "metadata": {},
   "outputs": [
    {
     "name": "stdout",
     "output_type": "stream",
     "text": [
      "Total user:  43071\n",
      "Fraud_user number:  3548\n",
      "Fraud user ID list:  [   23    24    29 ... 43014 43015 43027]\n",
      "Fraud user ratio:  0.08\n"
     ]
    }
   ],
   "source": [
    "Fraud_user_Id_array = np.array(Fraud_user_train.index)\n",
    "print(\"Total user: \", len(train_df_fraud_user))\n",
    "print(\"Fraud_user number: \",len(Fraud_user_Id_array))\n",
    "print(\"Fraud user ID list: \", Fraud_user_Id_array)\n",
    "print(\"Fraud user ratio: \", round(len(Fraud_user_Id_array)/ len(train_df_fraud_user), 2))"
   ]
  },
  {
   "cell_type": "markdown",
   "metadata": {},
   "source": [
    "### Predict fraud user in testing data set"
   ]
  },
  {
   "cell_type": "code",
   "execution_count": 62,
   "metadata": {},
   "outputs": [],
   "source": [
    "#got origin test_df to distinguish transaction by user\n",
    "test_df_origin=pd.merge(test_transaction,test_identity,how=\"left\",on=\"TransactionID\")"
   ]
  },
  {
   "cell_type": "code",
   "execution_count": 63,
   "metadata": {},
   "outputs": [
    {
     "name": "stderr",
     "output_type": "stream",
     "text": [
      "/Users/wei-chenghuang/anaconda3/lib/python3.7/site-packages/ipykernel_launcher.py:2: SettingWithCopyWarning: \n",
      "A value is trying to be set on a copy of a slice from a DataFrame.\n",
      "Try using .loc[row_indexer,col_indexer] = value instead\n",
      "\n",
      "See the caveats in the documentation: http://pandas.pydata.org/pandas-docs/stable/indexing.html#indexing-view-versus-copy\n",
      "  \n"
     ]
    }
   ],
   "source": [
    "test_df_origin_user = test_df_origin[[\"TransactionID\", \"card1\", \"card2\", \"card3\", \"card4\", \"card5\", \"card6\", \"addr1\", \"addr2\"]]\n",
    "test_df_origin_user[\"isFraud\"] = y_predict_test\n",
    "test_df_origin_user = test_df_origin_user.fillna(-999)\n",
    "test_df_origin_user = test_df_origin_user.set_index(\"TransactionID\")"
   ]
  },
  {
   "cell_type": "code",
   "execution_count": 64,
   "metadata": {},
   "outputs": [],
   "source": [
    "test_df_origin_user = test_df_origin_user.sort_values(by=[\"card1\", \"card2\", \"card3\", \"card4\", \"card5\", \"card6\", \"addr1\", \"addr2\"])"
   ]
  },
  {
   "cell_type": "code",
   "execution_count": 65,
   "metadata": {},
   "outputs": [
    {
     "data": {
      "text/html": [
       "<div>\n",
       "<style scoped>\n",
       "    .dataframe tbody tr th:only-of-type {\n",
       "        vertical-align: middle;\n",
       "    }\n",
       "\n",
       "    .dataframe tbody tr th {\n",
       "        vertical-align: top;\n",
       "    }\n",
       "\n",
       "    .dataframe thead th {\n",
       "        text-align: right;\n",
       "    }\n",
       "</style>\n",
       "<table border=\"1\" class=\"dataframe\">\n",
       "  <thead>\n",
       "    <tr style=\"text-align: right;\">\n",
       "      <th></th>\n",
       "      <th>card1</th>\n",
       "      <th>card2</th>\n",
       "      <th>card3</th>\n",
       "      <th>card4</th>\n",
       "      <th>card5</th>\n",
       "      <th>card6</th>\n",
       "      <th>addr1</th>\n",
       "      <th>addr2</th>\n",
       "      <th>isFraud</th>\n",
       "    </tr>\n",
       "    <tr>\n",
       "      <th>TransactionID</th>\n",
       "      <th></th>\n",
       "      <th></th>\n",
       "      <th></th>\n",
       "      <th></th>\n",
       "      <th></th>\n",
       "      <th></th>\n",
       "      <th></th>\n",
       "      <th></th>\n",
       "      <th></th>\n",
       "    </tr>\n",
       "  </thead>\n",
       "  <tbody>\n",
       "    <tr>\n",
       "      <th>4084529</th>\n",
       "      <td>1001</td>\n",
       "      <td>555.0</td>\n",
       "      <td>150.0</td>\n",
       "      <td>visa</td>\n",
       "      <td>226.0</td>\n",
       "      <td>debit</td>\n",
       "      <td>269.0</td>\n",
       "      <td>87.0</td>\n",
       "      <td>0</td>\n",
       "    </tr>\n",
       "    <tr>\n",
       "      <th>4113026</th>\n",
       "      <td>1001</td>\n",
       "      <td>555.0</td>\n",
       "      <td>150.0</td>\n",
       "      <td>visa</td>\n",
       "      <td>226.0</td>\n",
       "      <td>debit</td>\n",
       "      <td>269.0</td>\n",
       "      <td>87.0</td>\n",
       "      <td>1</td>\n",
       "    </tr>\n",
       "    <tr>\n",
       "      <th>4147003</th>\n",
       "      <td>1002</td>\n",
       "      <td>-999.0</td>\n",
       "      <td>150.0</td>\n",
       "      <td>mastercard</td>\n",
       "      <td>-999.0</td>\n",
       "      <td>credit</td>\n",
       "      <td>343.0</td>\n",
       "      <td>87.0</td>\n",
       "      <td>1</td>\n",
       "    </tr>\n",
       "    <tr>\n",
       "      <th>3981622</th>\n",
       "      <td>1003</td>\n",
       "      <td>452.0</td>\n",
       "      <td>150.0</td>\n",
       "      <td>mastercard</td>\n",
       "      <td>224.0</td>\n",
       "      <td>debit</td>\n",
       "      <td>264.0</td>\n",
       "      <td>87.0</td>\n",
       "      <td>0</td>\n",
       "    </tr>\n",
       "    <tr>\n",
       "      <th>4136498</th>\n",
       "      <td>1004</td>\n",
       "      <td>-999.0</td>\n",
       "      <td>-999.0</td>\n",
       "      <td>-999</td>\n",
       "      <td>-999.0</td>\n",
       "      <td>-999</td>\n",
       "      <td>126.0</td>\n",
       "      <td>87.0</td>\n",
       "      <td>0</td>\n",
       "    </tr>\n",
       "    <tr>\n",
       "      <th>4044940</th>\n",
       "      <td>1004</td>\n",
       "      <td>583.0</td>\n",
       "      <td>150.0</td>\n",
       "      <td>visa</td>\n",
       "      <td>226.0</td>\n",
       "      <td>credit</td>\n",
       "      <td>325.0</td>\n",
       "      <td>87.0</td>\n",
       "      <td>0</td>\n",
       "    </tr>\n",
       "    <tr>\n",
       "      <th>4056849</th>\n",
       "      <td>1004</td>\n",
       "      <td>583.0</td>\n",
       "      <td>150.0</td>\n",
       "      <td>visa</td>\n",
       "      <td>226.0</td>\n",
       "      <td>credit</td>\n",
       "      <td>325.0</td>\n",
       "      <td>87.0</td>\n",
       "      <td>0</td>\n",
       "    </tr>\n",
       "    <tr>\n",
       "      <th>4156127</th>\n",
       "      <td>1005</td>\n",
       "      <td>543.0</td>\n",
       "      <td>150.0</td>\n",
       "      <td>mastercard</td>\n",
       "      <td>117.0</td>\n",
       "      <td>debit</td>\n",
       "      <td>204.0</td>\n",
       "      <td>87.0</td>\n",
       "      <td>0</td>\n",
       "    </tr>\n",
       "    <tr>\n",
       "      <th>4128868</th>\n",
       "      <td>1006</td>\n",
       "      <td>399.0</td>\n",
       "      <td>150.0</td>\n",
       "      <td>american express</td>\n",
       "      <td>146.0</td>\n",
       "      <td>credit</td>\n",
       "      <td>231.0</td>\n",
       "      <td>87.0</td>\n",
       "      <td>0</td>\n",
       "    </tr>\n",
       "    <tr>\n",
       "      <th>4103003</th>\n",
       "      <td>1006</td>\n",
       "      <td>399.0</td>\n",
       "      <td>150.0</td>\n",
       "      <td>american express</td>\n",
       "      <td>146.0</td>\n",
       "      <td>credit</td>\n",
       "      <td>272.0</td>\n",
       "      <td>87.0</td>\n",
       "      <td>0</td>\n",
       "    </tr>\n",
       "  </tbody>\n",
       "</table>\n",
       "</div>"
      ],
      "text/plain": [
       "               card1  card2  card3             card4  card5   card6  addr1  \\\n",
       "TransactionID                                                                \n",
       "4084529         1001  555.0  150.0              visa  226.0   debit  269.0   \n",
       "4113026         1001  555.0  150.0              visa  226.0   debit  269.0   \n",
       "4147003         1002 -999.0  150.0        mastercard -999.0  credit  343.0   \n",
       "3981622         1003  452.0  150.0        mastercard  224.0   debit  264.0   \n",
       "4136498         1004 -999.0 -999.0              -999 -999.0    -999  126.0   \n",
       "4044940         1004  583.0  150.0              visa  226.0  credit  325.0   \n",
       "4056849         1004  583.0  150.0              visa  226.0  credit  325.0   \n",
       "4156127         1005  543.0  150.0        mastercard  117.0   debit  204.0   \n",
       "4128868         1006  399.0  150.0  american express  146.0  credit  231.0   \n",
       "4103003         1006  399.0  150.0  american express  146.0  credit  272.0   \n",
       "\n",
       "               addr2  isFraud  \n",
       "TransactionID                  \n",
       "4084529         87.0        0  \n",
       "4113026         87.0        1  \n",
       "4147003         87.0        1  \n",
       "3981622         87.0        0  \n",
       "4136498         87.0        0  \n",
       "4044940         87.0        0  \n",
       "4056849         87.0        0  \n",
       "4156127         87.0        0  \n",
       "4128868         87.0        0  \n",
       "4103003         87.0        0  "
      ]
     },
     "execution_count": 65,
     "metadata": {},
     "output_type": "execute_result"
    }
   ],
   "source": [
    "test_df_origin_user.head(10)"
   ]
  },
  {
   "cell_type": "code",
   "execution_count": 66,
   "metadata": {},
   "outputs": [],
   "source": [
    "test_df_origin_user['userInfo'] = test_df_origin_user[test_df_origin_user.columns[0:8]].apply(\n",
    "    lambda x: ','.join(x.dropna().astype(str)),axis=1)"
   ]
  },
  {
   "cell_type": "code",
   "execution_count": 67,
   "metadata": {},
   "outputs": [],
   "source": [
    "# 透過相同的user info (card1, card2, card3, card4, card5, card6, addr1, addr2) 來判別是否為同個user\n",
    "lst = [1]\n",
    "user_index = 1\n",
    "index_arr = test_df_origin_user.index\n",
    "for i in range(1, len(index_arr)):\n",
    "    if test_df_origin_user.loc[index_arr[i], \"userInfo\"] == test_df_origin_user.loc[index_arr[i-1], \"userInfo\"]:\n",
    "            lst.append(user_index)\n",
    "    else:\n",
    "        user_index +=1\n",
    "        lst.append(user_index)"
   ]
  },
  {
   "cell_type": "code",
   "execution_count": 68,
   "metadata": {},
   "outputs": [],
   "source": [
    "test_df_origin_user[\"userID\"] = lst "
   ]
  },
  {
   "cell_type": "code",
   "execution_count": 80,
   "metadata": {},
   "outputs": [
    {
     "data": {
      "text/html": [
       "<div>\n",
       "<style scoped>\n",
       "    .dataframe tbody tr th:only-of-type {\n",
       "        vertical-align: middle;\n",
       "    }\n",
       "\n",
       "    .dataframe tbody tr th {\n",
       "        vertical-align: top;\n",
       "    }\n",
       "\n",
       "    .dataframe thead th {\n",
       "        text-align: right;\n",
       "    }\n",
       "</style>\n",
       "<table border=\"1\" class=\"dataframe\">\n",
       "  <thead>\n",
       "    <tr style=\"text-align: right;\">\n",
       "      <th></th>\n",
       "      <th>card1</th>\n",
       "      <th>card2</th>\n",
       "      <th>card3</th>\n",
       "      <th>card4</th>\n",
       "      <th>card5</th>\n",
       "      <th>card6</th>\n",
       "      <th>addr1</th>\n",
       "      <th>addr2</th>\n",
       "      <th>isFraud</th>\n",
       "      <th>userInfo</th>\n",
       "      <th>userID</th>\n",
       "    </tr>\n",
       "    <tr>\n",
       "      <th>TransactionID</th>\n",
       "      <th></th>\n",
       "      <th></th>\n",
       "      <th></th>\n",
       "      <th></th>\n",
       "      <th></th>\n",
       "      <th></th>\n",
       "      <th></th>\n",
       "      <th></th>\n",
       "      <th></th>\n",
       "      <th></th>\n",
       "      <th></th>\n",
       "    </tr>\n",
       "  </thead>\n",
       "  <tbody>\n",
       "    <tr>\n",
       "      <th>4084529</th>\n",
       "      <td>1001</td>\n",
       "      <td>555.0</td>\n",
       "      <td>150.0</td>\n",
       "      <td>visa</td>\n",
       "      <td>226.0</td>\n",
       "      <td>debit</td>\n",
       "      <td>269.0</td>\n",
       "      <td>87.0</td>\n",
       "      <td>0</td>\n",
       "      <td>1001,555.0,150.0,visa,226.0,debit,269.0,87.0</td>\n",
       "      <td>1</td>\n",
       "    </tr>\n",
       "    <tr>\n",
       "      <th>4113026</th>\n",
       "      <td>1001</td>\n",
       "      <td>555.0</td>\n",
       "      <td>150.0</td>\n",
       "      <td>visa</td>\n",
       "      <td>226.0</td>\n",
       "      <td>debit</td>\n",
       "      <td>269.0</td>\n",
       "      <td>87.0</td>\n",
       "      <td>1</td>\n",
       "      <td>1001,555.0,150.0,visa,226.0,debit,269.0,87.0</td>\n",
       "      <td>1</td>\n",
       "    </tr>\n",
       "    <tr>\n",
       "      <th>4147003</th>\n",
       "      <td>1002</td>\n",
       "      <td>-999.0</td>\n",
       "      <td>150.0</td>\n",
       "      <td>mastercard</td>\n",
       "      <td>-999.0</td>\n",
       "      <td>credit</td>\n",
       "      <td>343.0</td>\n",
       "      <td>87.0</td>\n",
       "      <td>1</td>\n",
       "      <td>1002,-999.0,150.0,mastercard,-999.0,credit,343...</td>\n",
       "      <td>2</td>\n",
       "    </tr>\n",
       "    <tr>\n",
       "      <th>3981622</th>\n",
       "      <td>1003</td>\n",
       "      <td>452.0</td>\n",
       "      <td>150.0</td>\n",
       "      <td>mastercard</td>\n",
       "      <td>224.0</td>\n",
       "      <td>debit</td>\n",
       "      <td>264.0</td>\n",
       "      <td>87.0</td>\n",
       "      <td>0</td>\n",
       "      <td>1003,452.0,150.0,mastercard,224.0,debit,264.0,...</td>\n",
       "      <td>3</td>\n",
       "    </tr>\n",
       "    <tr>\n",
       "      <th>4136498</th>\n",
       "      <td>1004</td>\n",
       "      <td>-999.0</td>\n",
       "      <td>-999.0</td>\n",
       "      <td>-999</td>\n",
       "      <td>-999.0</td>\n",
       "      <td>-999</td>\n",
       "      <td>126.0</td>\n",
       "      <td>87.0</td>\n",
       "      <td>0</td>\n",
       "      <td>1004,-999.0,-999.0,-999,-999.0,-999,126.0,87.0</td>\n",
       "      <td>4</td>\n",
       "    </tr>\n",
       "  </tbody>\n",
       "</table>\n",
       "</div>"
      ],
      "text/plain": [
       "               card1  card2  card3       card4  card5   card6  addr1  addr2  \\\n",
       "TransactionID                                                                 \n",
       "4084529         1001  555.0  150.0        visa  226.0   debit  269.0   87.0   \n",
       "4113026         1001  555.0  150.0        visa  226.0   debit  269.0   87.0   \n",
       "4147003         1002 -999.0  150.0  mastercard -999.0  credit  343.0   87.0   \n",
       "3981622         1003  452.0  150.0  mastercard  224.0   debit  264.0   87.0   \n",
       "4136498         1004 -999.0 -999.0        -999 -999.0    -999  126.0   87.0   \n",
       "\n",
       "               isFraud                                           userInfo  \\\n",
       "TransactionID                                                               \n",
       "4084529              0       1001,555.0,150.0,visa,226.0,debit,269.0,87.0   \n",
       "4113026              1       1001,555.0,150.0,visa,226.0,debit,269.0,87.0   \n",
       "4147003              1  1002,-999.0,150.0,mastercard,-999.0,credit,343...   \n",
       "3981622              0  1003,452.0,150.0,mastercard,224.0,debit,264.0,...   \n",
       "4136498              0     1004,-999.0,-999.0,-999,-999.0,-999,126.0,87.0   \n",
       "\n",
       "               userID  \n",
       "TransactionID          \n",
       "4084529             1  \n",
       "4113026             1  \n",
       "4147003             2  \n",
       "3981622             3  \n",
       "4136498             4  "
      ]
     },
     "execution_count": 80,
     "metadata": {},
     "output_type": "execute_result"
    }
   ],
   "source": [
    "test_df_origin_user.head(5)"
   ]
  },
  {
   "cell_type": "code",
   "execution_count": 69,
   "metadata": {},
   "outputs": [],
   "source": [
    "# caculated number of fraud transaction for each user\n",
    "test_df_fraud_user = test_df_origin_user[[\"userID\", \"isFraud\"]].groupby(['userID']).sum()"
   ]
  },
  {
   "cell_type": "code",
   "execution_count": 70,
   "metadata": {},
   "outputs": [],
   "source": [
    "# user with one or more than one time fraud transaction would be classify as a fraud user\n",
    "Fraud_user = test_df_fraud_user.loc[test_df_fraud_user[\"isFraud\"] >=1].rename(columns = {\"isFraud\": \"Number Of Fraud transactions\"})"
   ]
  },
  {
   "cell_type": "code",
   "execution_count": 71,
   "metadata": {},
   "outputs": [
    {
     "data": {
      "text/html": [
       "<div>\n",
       "<style scoped>\n",
       "    .dataframe tbody tr th:only-of-type {\n",
       "        vertical-align: middle;\n",
       "    }\n",
       "\n",
       "    .dataframe tbody tr th {\n",
       "        vertical-align: top;\n",
       "    }\n",
       "\n",
       "    .dataframe thead th {\n",
       "        text-align: right;\n",
       "    }\n",
       "</style>\n",
       "<table border=\"1\" class=\"dataframe\">\n",
       "  <thead>\n",
       "    <tr style=\"text-align: right;\">\n",
       "      <th></th>\n",
       "      <th>Number Of Fraud transactions</th>\n",
       "    </tr>\n",
       "    <tr>\n",
       "      <th>userID</th>\n",
       "      <th></th>\n",
       "    </tr>\n",
       "  </thead>\n",
       "  <tbody>\n",
       "    <tr>\n",
       "      <th>1</th>\n",
       "      <td>1</td>\n",
       "    </tr>\n",
       "    <tr>\n",
       "      <th>2</th>\n",
       "      <td>1</td>\n",
       "    </tr>\n",
       "    <tr>\n",
       "      <th>11</th>\n",
       "      <td>1</td>\n",
       "    </tr>\n",
       "    <tr>\n",
       "      <th>13</th>\n",
       "      <td>4</td>\n",
       "    </tr>\n",
       "    <tr>\n",
       "      <th>19</th>\n",
       "      <td>1</td>\n",
       "    </tr>\n",
       "  </tbody>\n",
       "</table>\n",
       "</div>"
      ],
      "text/plain": [
       "        Number Of Fraud transactions\n",
       "userID                              \n",
       "1                                  1\n",
       "2                                  1\n",
       "11                                 1\n",
       "13                                 4\n",
       "19                                 1"
      ]
     },
     "execution_count": 71,
     "metadata": {},
     "output_type": "execute_result"
    }
   ],
   "source": [
    "Fraud_user.head()"
   ]
  },
  {
   "cell_type": "code",
   "execution_count": 72,
   "metadata": {},
   "outputs": [],
   "source": [
    "Fraud_user_Id_array = np.array(Fraud_user.index)"
   ]
  },
  {
   "cell_type": "code",
   "execution_count": 85,
   "metadata": {},
   "outputs": [
    {
     "name": "stdout",
     "output_type": "stream",
     "text": [
      "Total user:  39538\n",
      "Fraud_user number:  15016\n",
      "Fraud user ID list:  [    1     2    11 ... 39532 39536 39537]\n",
      "Fraud user ratio:  0.38\n"
     ]
    }
   ],
   "source": [
    "#Showing fraud user number and full list \n",
    "print(\"Total user: \", len(test_df_fraud_user))\n",
    "print(\"Fraud_user number: \",len(Fraud_user_Id_array))\n",
    "print(\"Fraud user ID list: \", Fraud_user_Id_array)\n",
    "print(\"Fraud user ratio: \", round(len(Fraud_user_Id_array)/ len(test_df_fraud_user), 2))"
   ]
  },
  {
   "cell_type": "markdown",
   "metadata": {},
   "source": [
    "### Summary: \n",
    "### In the test set, 38% 的Users預測為Fraud_user, 比例可能有些過高. 但由於以商業上來講, 將Fraud user 預測為非Fraud user 的成本(false negative) 非常高. 根據先前的假設（FN cost : FP cost = 100 : 1), 此結果可以達到最小化total cost. 因此對這個結論是滿意的  "
   ]
  }
 ],
 "metadata": {
  "kernelspec": {
   "display_name": "Python 3",
   "language": "python",
   "name": "python3"
  },
  "language_info": {
   "codemirror_mode": {
    "name": "ipython",
    "version": 3
   },
   "file_extension": ".py",
   "mimetype": "text/x-python",
   "name": "python",
   "nbconvert_exporter": "python",
   "pygments_lexer": "ipython3",
   "version": "3.7.3"
  }
 },
 "nbformat": 4,
 "nbformat_minor": 2
}
